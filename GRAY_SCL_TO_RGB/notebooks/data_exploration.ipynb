{
 "cells": [
  {
   "cell_type": "code",
   "execution_count": 4,
   "metadata": {},
   "outputs": [],
   "source": [
    "import numpy as np\n",
    "import pandas as pd\n",
    "import matplotlib.pyplot as plt\n",
    "import seaborn as sns\n",
    "import cv2\n",
    "import torch\n",
    "from torchvision import transforms\n",
    "from PIL import Image\n",
    "import json"
   ]
  },
  {
   "cell_type": "markdown",
   "metadata": {},
   "source": [
    "## Getting the respective data into a data frame"
   ]
  },
  {
   "cell_type": "code",
   "execution_count": 22,
   "metadata": {},
   "outputs": [],
   "source": [
    "# Define the relative path to the JSON file\n",
    "json_files = ['../coco2017/annotations/captions_train2017.json', '../coco2017/annotations/captions_val2017.json']\n",
    "\n",
    "# Load the JSON file\n",
    "training_data = json.load(open(json_files[0]))\n",
    "validation_data = json.load(open(json_files[1]))\n",
    "\n",
    "# Extrct images from the JSON file\n",
    "training_images = training_data['images']\n",
    "validation_images = validation_data['images']\n",
    "\n",
    "# Convert the JSON file to a DataFrame\n",
    "training_images_df = pd.DataFrame(training_images)\n",
    "validation_images_df = pd.DataFrame(validation_images)\n"
   ]
  },
  {
   "cell_type": "markdown",
   "metadata": {},
   "source": [
    "## Beginning with the data nomalization"
   ]
  },
  {
   "cell_type": "code",
   "execution_count": 27,
   "metadata": {},
   "outputs": [
    {
     "data": {
      "text/html": [
       "<div>\n",
       "<style scoped>\n",
       "    .dataframe tbody tr th:only-of-type {\n",
       "        vertical-align: middle;\n",
       "    }\n",
       "\n",
       "    .dataframe tbody tr th {\n",
       "        vertical-align: top;\n",
       "    }\n",
       "\n",
       "    .dataframe thead th {\n",
       "        text-align: right;\n",
       "    }\n",
       "</style>\n",
       "<table border=\"1\" class=\"dataframe\">\n",
       "  <thead>\n",
       "    <tr style=\"text-align: right;\">\n",
       "      <th></th>\n",
       "      <th>license</th>\n",
       "      <th>file_name</th>\n",
       "      <th>coco_url</th>\n",
       "      <th>height</th>\n",
       "      <th>width</th>\n",
       "      <th>date_captured</th>\n",
       "      <th>flickr_url</th>\n",
       "      <th>id</th>\n",
       "    </tr>\n",
       "  </thead>\n",
       "  <tbody>\n",
       "    <tr>\n",
       "      <th>0</th>\n",
       "      <td>3</td>\n",
       "      <td>000000391895.jpg</td>\n",
       "      <td>http://images.cocodataset.org/train2017/000000...</td>\n",
       "      <td>360</td>\n",
       "      <td>640</td>\n",
       "      <td>2013-11-14 11:18:45</td>\n",
       "      <td>http://farm9.staticflickr.com/8186/8119368305_...</td>\n",
       "      <td>391895</td>\n",
       "    </tr>\n",
       "    <tr>\n",
       "      <th>1</th>\n",
       "      <td>4</td>\n",
       "      <td>000000522418.jpg</td>\n",
       "      <td>http://images.cocodataset.org/train2017/000000...</td>\n",
       "      <td>480</td>\n",
       "      <td>640</td>\n",
       "      <td>2013-11-14 11:38:44</td>\n",
       "      <td>http://farm1.staticflickr.com/1/127244861_ab0c...</td>\n",
       "      <td>522418</td>\n",
       "    </tr>\n",
       "    <tr>\n",
       "      <th>2</th>\n",
       "      <td>3</td>\n",
       "      <td>000000184613.jpg</td>\n",
       "      <td>http://images.cocodataset.org/train2017/000000...</td>\n",
       "      <td>336</td>\n",
       "      <td>500</td>\n",
       "      <td>2013-11-14 12:36:29</td>\n",
       "      <td>http://farm3.staticflickr.com/2169/2118578392_...</td>\n",
       "      <td>184613</td>\n",
       "    </tr>\n",
       "    <tr>\n",
       "      <th>3</th>\n",
       "      <td>3</td>\n",
       "      <td>000000318219.jpg</td>\n",
       "      <td>http://images.cocodataset.org/train2017/000000...</td>\n",
       "      <td>640</td>\n",
       "      <td>556</td>\n",
       "      <td>2013-11-14 13:02:53</td>\n",
       "      <td>http://farm5.staticflickr.com/4125/5094763076_...</td>\n",
       "      <td>318219</td>\n",
       "    </tr>\n",
       "    <tr>\n",
       "      <th>4</th>\n",
       "      <td>3</td>\n",
       "      <td>000000554625.jpg</td>\n",
       "      <td>http://images.cocodataset.org/train2017/000000...</td>\n",
       "      <td>640</td>\n",
       "      <td>426</td>\n",
       "      <td>2013-11-14 16:03:19</td>\n",
       "      <td>http://farm5.staticflickr.com/4086/5094162993_...</td>\n",
       "      <td>554625</td>\n",
       "    </tr>\n",
       "  </tbody>\n",
       "</table>\n",
       "</div>"
      ],
      "text/plain": [
       "   license         file_name  \\\n",
       "0        3  000000391895.jpg   \n",
       "1        4  000000522418.jpg   \n",
       "2        3  000000184613.jpg   \n",
       "3        3  000000318219.jpg   \n",
       "4        3  000000554625.jpg   \n",
       "\n",
       "                                            coco_url  height  width  \\\n",
       "0  http://images.cocodataset.org/train2017/000000...     360    640   \n",
       "1  http://images.cocodataset.org/train2017/000000...     480    640   \n",
       "2  http://images.cocodataset.org/train2017/000000...     336    500   \n",
       "3  http://images.cocodataset.org/train2017/000000...     640    556   \n",
       "4  http://images.cocodataset.org/train2017/000000...     640    426   \n",
       "\n",
       "         date_captured                                         flickr_url  \\\n",
       "0  2013-11-14 11:18:45  http://farm9.staticflickr.com/8186/8119368305_...   \n",
       "1  2013-11-14 11:38:44  http://farm1.staticflickr.com/1/127244861_ab0c...   \n",
       "2  2013-11-14 12:36:29  http://farm3.staticflickr.com/2169/2118578392_...   \n",
       "3  2013-11-14 13:02:53  http://farm5.staticflickr.com/4125/5094763076_...   \n",
       "4  2013-11-14 16:03:19  http://farm5.staticflickr.com/4086/5094162993_...   \n",
       "\n",
       "       id  \n",
       "0  391895  \n",
       "1  522418  \n",
       "2  184613  \n",
       "3  318219  \n",
       "4  554625  "
      ]
     },
     "execution_count": 27,
     "metadata": {},
     "output_type": "execute_result"
    }
   ],
   "source": [
    "training_images_df.head()"
   ]
  },
  {
   "cell_type": "code",
   "execution_count": null,
   "metadata": {},
   "outputs": [],
   "source": [
    "training_images_df['height']"
   ]
  }
 ],
 "metadata": {
  "kernelspec": {
   "display_name": "gray_rgb",
   "language": "python",
   "name": "python3"
  },
  "language_info": {
   "codemirror_mode": {
    "name": "ipython",
    "version": 3
   },
   "file_extension": ".py",
   "mimetype": "text/x-python",
   "name": "python",
   "nbconvert_exporter": "python",
   "pygments_lexer": "ipython3",
   "version": "3.11.9"
  }
 },
 "nbformat": 4,
 "nbformat_minor": 2
}
